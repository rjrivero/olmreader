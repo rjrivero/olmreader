{
 "nbformat": 4,
 "nbformat_minor": 2,
 "metadata": {
  "language_info": {
   "name": "python",
   "codemirror_mode": {
    "name": "ipython",
    "version": 3
   },
   "version": "3.8.1-final"
  },
  "orig_nbformat": 2,
  "file_extension": ".py",
  "mimetype": "text/x-python",
  "name": "python",
  "npconvert_exporter": "python",
  "pygments_lexer": "ipython3",
  "version": 3,
  "kernelspec": {
   "name": "python38164bitolmpipenva3ad774691db46418b365996062b1729",
   "display_name": "Python 3.8.1 64-bit ('olm': pipenv)"
  }
 },
 "cells": [
  {
   "cell_type": "code",
   "execution_count": 1,
   "metadata": {},
   "outputs": [],
   "source": [
    "dbfile = '/home/rafa/Documentos/outlook/emails2.db'"
   ]
  },
  {
   "cell_type": "code",
   "execution_count": 2,
   "metadata": {},
   "outputs": [],
   "source": [
    "from zipfile import ZipFile\n",
    "import logging\n",
    "import sys\n",
    "import argparse\n",
    "from sqlalchemy import create_engine\n",
    "import sqlalchemy.orm as orm"
   ]
  },
  {
   "cell_type": "code",
   "execution_count": 3,
   "metadata": {},
   "outputs": [],
   "source": [
    "import attr\n",
    "from lib import Email, Base"
   ]
  },
  {
   "cell_type": "code",
   "execution_count": 4,
   "metadata": {},
   "outputs": [],
   "source": [
    "engine = create_engine(f'sqlite:///{dbfile}', echo=False)\n",
    "Base.metadata.create_all(engine)"
   ]
  },
  {
   "cell_type": "code",
   "execution_count": 5,
   "metadata": {},
   "outputs": [],
   "source": [
    "from sqlalchemy.orm import sessionmaker\n",
    "Session = sessionmaker(bind=engine)"
   ]
  },
  {
   "cell_type": "code",
   "execution_count": 6,
   "metadata": {},
   "outputs": [
    {
     "output_type": "execute_result",
     "data": {
      "text/plain": "32639"
     },
     "metadata": {},
     "execution_count": 6
    }
   ],
   "source": [
    "session = Session()\n",
    "emails = session.query(Email).count()\n",
    "emails"
   ]
  },
  {
   "cell_type": "code",
   "execution_count": 7,
   "metadata": {},
   "outputs": [
    {
     "output_type": "execute_result",
     "data": {
      "text/plain": "<sqlalchemy.orm.query.Query at 0x7fe5d6f5bd30>"
     },
     "metadata": {},
     "execution_count": 7
    }
   ],
   "source": [
    "first =session.query(Email).filter(Email.id == 1)\n",
    "first"
   ]
  },
  {
   "cell_type": "code",
   "execution_count": 8,
   "metadata": {},
   "outputs": [],
   "source": [
    "item = first.one()"
   ]
  },
  {
   "cell_type": "code",
   "execution_count": 9,
   "metadata": {},
   "outputs": [],
   "source": [
    "# Esto es necesario para que los mensajes se guarden\n",
    "# en UTF-8, y no en base64.\n",
    "from email import charset\n",
    "charset.add_charset('utf-8', charset.SHORTEST)"
   ]
  },
  {
   "cell_type": "code",
   "execution_count": null,
   "metadata": {},
   "outputs": [],
   "source": []
  },
  {
   "cell_type": "code",
   "execution_count": 10,
   "metadata": {},
   "outputs": [],
   "source": [
    "import mailbox\n",
    "mdir = mailbox.Maildir(\"/home/rafa/Documentos/outlook/mail\", None, True)\n",
    "\n",
    "#for item in session.query(Email.label).distinct():\n",
    "#    mdir.add_folder(item.label.replace('/','.'))\n",
    ""
   ]
  },
  {
   "cell_type": "code",
   "execution_count": 11,
   "metadata": {},
   "outputs": [
    {
     "output_type": "stream",
     "name": "stdout",
     "text": "SELECT message.id AS message_id, message.path AS message_path, message.account AS message_account, message.label AS message_label, message.\"isOutgoingMeetingResponse\" AS \"message_isOutgoingMeetingResponse\", message.\"isOutgoing\" AS \"message_isOutgoing\", message.\"isCalendarMessage\" AS \"message_isCalendarMessage\", message.\"hasHTML\" AS \"message_hasHTML\", message.\"hasRichText\" AS \"message_hasRichText\", message.\"sentTime\" AS \"message_sentTime\", message.\"receivedTime\" AS \"message_receivedTime\", message.\"displayTo\" AS \"message_displayTo\", message.subject AS message_subject, message.preview AS message_preview, message.body AS message_body \nFROM message \nWHERE message.id > ? ORDER BY message.id\n LIMIT ? OFFSET ?\nSaved 100 messages\nSELECT message.id AS message_id, message.path AS message_path, message.account AS message_account, message.label AS message_label, message.\"isOutgoingMeetingResponse\" AS \"message_isOutgoingMeetingResponse\", message.\"isOutgoing\" AS \"message_isOutgoing\", message.\"isCalendarMessage\" AS \"message_isCalendarMessage\", message.\"hasHTML\" AS \"message_hasHTML\", message.\"hasRichText\" AS \"message_hasRichText\", message.\"sentTime\" AS \"message_sentTime\", message.\"receivedTime\" AS \"message_receivedTime\", message.\"displayTo\" AS \"message_displayTo\", message.subject AS message_subject, message.preview AS message_preview, message.body AS message_body \nFROM message \nWHERE message.id > ? ORDER BY message.id\n LIMIT ? OFFSET ?\nSaved 100 messages\nSELECT message.id AS message_id, message.path AS message_path, message.account AS message_account, message.label AS message_label, message.\"isOutgoingMeetingResponse\" AS \"message_isOutgoingMeetingResponse\", message.\"isOutgoing\" AS \"message_isOutgoing\", message.\"isCalendarMessage\" AS \"message_isCalendarMessage\", message.\"hasHTML\" AS \"message_hasHTML\", message.\"hasRichText\" AS \"message_hasRichText\", message.\"sentTime\" AS \"message_sentTime\", message.\"receivedTime\" AS \"message_receivedTime\", message.\"displayTo\" AS \"message_displayTo\", message.subject AS message_subject, message.preview AS message_preview, message.body AS message_body \nFROM message \nWHERE message.id > ? ORDER BY message.id\n LIMIT ? OFFSET ?\nSaved 100 messages\nSELECT message.id AS message_id, message.path AS message_path, message.account AS message_account, message.label AS message_label, message.\"isOutgoingMeetingResponse\" AS \"message_isOutgoingMeetingResponse\", message.\"isOutgoing\" AS \"message_isOutgoing\", message.\"isCalendarMessage\" AS \"message_isCalendarMessage\", message.\"hasHTML\" AS \"message_hasHTML\", message.\"hasRichText\" AS \"message_hasRichText\", message.\"sentTime\" AS \"message_sentTime\", message.\"receivedTime\" AS \"message_receivedTime\", message.\"displayTo\" AS \"message_displayTo\", message.subject AS message_subject, message.preview AS message_preview, message.body AS message_body \nFROM message \nWHERE message.id > ? ORDER BY message.id\n LIMIT ? OFFSET ?\nSaved 100 messages\nSELECT message.id AS message_id, message.path AS message_path, message.account AS message_account, message.label AS message_label, message.\"isOutgoingMeetingResponse\" AS \"message_isOutgoingMeetingResponse\", message.\"isOutgoing\" AS \"message_isOutgoing\", message.\"isCalendarMessage\" AS \"message_isCalendarMessage\", message.\"hasHTML\" AS \"message_hasHTML\", message.\"hasRichText\" AS \"message_hasRichText\", message.\"sentTime\" AS \"message_sentTime\", message.\"receivedTime\" AS \"message_receivedTime\", message.\"displayTo\" AS \"message_displayTo\", message.subject AS message_subject, message.preview AS message_preview, message.body AS message_body \nFROM message \nWHERE message.id > ? ORDER BY message.id\n LIMIT ? OFFSET ?\nSaved 100 messages\nSELECT message.id AS message_id, message.path AS message_path, message.account AS message_account, message.label AS message_label, message.\"isOutgoingMeetingResponse\" AS \"message_isOutgoingMeetingResponse\", message.\"isOutgoing\" AS \"message_isOutgoing\", message.\"isCalendarMessage\" AS \"message_isCalendarMessage\", message.\"hasHTML\" AS \"message_hasHTML\", message.\"hasRichText\" AS \"message_hasRichText\", message.\"sentTime\" AS \"message_sentTime\", message.\"receivedTime\" AS \"message_receivedTime\", message.\"displayTo\" AS \"message_displayTo\", message.subject AS message_subject, message.preview AS message_preview, message.body AS message_body \nFROM message \nWHERE message.id > ? ORDER BY message.id\n LIMIT ? OFFSET ?\nSaved 100 messages\nSELECT message.id AS message_id, message.path AS message_path, message.account AS message_account, message.label AS message_label, message.\"isOutgoingMeetingResponse\" AS \"message_isOutgoingMeetingResponse\", message.\"isOutgoing\" AS \"message_isOutgoing\", message.\"isCalendarMessage\" AS \"message_isCalendarMessage\", message.\"hasHTML\" AS \"message_hasHTML\", message.\"hasRichText\" AS \"message_hasRichText\", message.\"sentTime\" AS \"message_sentTime\", message.\"receivedTime\" AS \"message_receivedTime\", message.\"displayTo\" AS \"message_displayTo\", message.subject AS message_subject, message.preview AS message_preview, message.body AS message_body \nFROM message \nWHERE message.id > ? ORDER BY message.id\n LIMIT ? OFFSET ?\nSaved 100 messages\nSELECT message.id AS message_id, message.path AS message_path, message.account AS message_account, message.label AS message_label, message.\"isOutgoingMeetingResponse\" AS \"message_isOutgoingMeetingResponse\", message.\"isOutgoing\" AS \"message_isOutgoing\", message.\"isCalendarMessage\" AS \"message_isCalendarMessage\", message.\"hasHTML\" AS \"message_hasHTML\", message.\"hasRichText\" AS \"message_hasRichText\", message.\"sentTime\" AS \"message_sentTime\", message.\"receivedTime\" AS \"message_receivedTime\", message.\"displayTo\" AS \"message_displayTo\", message.subject AS message_subject, message.preview AS message_preview, message.body AS message_body \nFROM message \nWHERE message.id > ? ORDER BY message.id\n LIMIT ? OFFSET ?\nSaved 100 messages\nSELECT message.id AS message_id, message.path AS message_path, message.account AS message_account, message.label AS message_label, message.\"isOutgoingMeetingResponse\" AS \"message_isOutgoingMeetingResponse\", message.\"isOutgoing\" AS \"message_isOutgoing\", message.\"isCalendarMessage\" AS \"message_isCalendarMessage\", message.\"hasHTML\" AS \"message_hasHTML\", message.\"hasRichText\" AS \"message_hasRichText\", message.\"sentTime\" AS \"message_sentTime\", message.\"receivedTime\" AS \"message_receivedTime\", message.\"displayTo\" AS \"message_displayTo\", message.subject AS message_subject, message.preview AS message_preview, message.body AS message_body \nFROM message \nWHERE message.id > ? ORDER BY message.id\n LIMIT ? OFFSET ?\nSaved 100 messages\nSELECT message.id AS message_id, message.path AS message_path, message.account AS message_account, message.label AS message_label, message.\"isOutgoingMeetingResponse\" AS \"message_isOutgoingMeetingResponse\", message.\"isOutgoing\" AS \"message_isOutgoing\", message.\"isCalendarMessage\" AS \"message_isCalendarMessage\", message.\"hasHTML\" AS \"message_hasHTML\", message.\"hasRichText\" AS \"message_hasRichText\", message.\"sentTime\" AS \"message_sentTime\", message.\"receivedTime\" AS \"message_receivedTime\", message.\"displayTo\" AS \"message_displayTo\", message.subject AS message_subject, message.preview AS message_preview, message.body AS message_body \nFROM message \nWHERE message.id > ? ORDER BY message.id\n LIMIT ? OFFSET ?\nSaved 100 messages\nSELECT message.id AS message_id, message.path AS message_path, message.account AS message_account, message.label AS message_label, message.\"isOutgoingMeetingResponse\" AS \"message_isOutgoingMeetingResponse\", message.\"isOutgoing\" AS \"message_isOutgoing\", message.\"isCalendarMessage\" AS \"message_isCalendarMessage\", message.\"hasHTML\" AS \"message_hasHTML\", message.\"hasRichText\" AS \"message_hasRichText\", message.\"sentTime\" AS \"message_sentTime\", message.\"receivedTime\" AS \"message_receivedTime\", message.\"displayTo\" AS \"message_displayTo\", message.subject AS message_subject, message.preview AS message_preview, message.body AS message_body \nFROM message \nWHERE message.id > ? ORDER BY message.id\n LIMIT ? OFFSET ?\nSaved 100 messages\nSELECT message.id AS message_id, message.path AS message_path, message.account AS message_account, message.label AS message_label, message.\"isOutgoingMeetingResponse\" AS \"message_isOutgoingMeetingResponse\", message.\"isOutgoing\" AS \"message_isOutgoing\", message.\"isCalendarMessage\" AS \"message_isCalendarMessage\", message.\"hasHTML\" AS \"message_hasHTML\", message.\"hasRichText\" AS \"message_hasRichText\", message.\"sentTime\" AS \"message_sentTime\", message.\"receivedTime\" AS \"message_receivedTime\", message.\"displayTo\" AS \"message_displayTo\", message.subject AS message_subject, message.preview AS message_preview, message.body AS message_body \nFROM message \nWHERE message.id > ? ORDER BY message.id\n LIMIT ? OFFSET ?\nSaved 100 messages\nSELECT message.id AS message_id, message.path AS message_path, message.account AS message_account, message.label AS message_label, message.\"isOutgoingMeetingResponse\" AS \"message_isOutgoingMeetingResponse\", message.\"isOutgoing\" AS \"message_isOutgoing\", message.\"isCalendarMessage\" AS \"message_isCalendarMessage\", message.\"hasHTML\" AS \"message_hasHTML\", message.\"hasRichText\" AS \"message_hasRichText\", message.\"sentTime\" AS \"message_sentTime\", message.\"receivedTime\" AS \"message_receivedTime\", message.\"displayTo\" AS \"message_displayTo\", message.subject AS message_subject, message.preview AS message_preview, message.body AS message_body \nFROM message \nWHERE message.id > ? ORDER BY message.id\n LIMIT ? OFFSET ?\nSaved 100 messages\nSELECT message.id AS message_id, message.path AS message_path, message.account AS message_account, message.label AS message_label, message.\"isOutgoingMeetingResponse\" AS \"message_isOutgoingMeetingResponse\", message.\"isOutgoing\" AS \"message_isOutgoing\", message.\"isCalendarMessage\" AS \"message_isCalendarMessage\", message.\"hasHTML\" AS \"message_hasHTML\", message.\"hasRichText\" AS \"message_hasRichText\", message.\"sentTime\" AS \"message_sentTime\", message.\"receivedTime\" AS \"message_receivedTime\", message.\"displayTo\" AS \"message_displayTo\", message.subject AS message_subject, message.preview AS message_preview, message.body AS message_body \nFROM message \nWHERE message.id > ? ORDER BY message.id\n LIMIT ? OFFSET ?\nSaved 100 messages\nSELECT message.id AS message_id, message.path AS message_path, message.account AS message_account, message.label AS message_label, message.\"isOutgoingMeetingResponse\" AS \"message_isOutgoingMeetingResponse\", message.\"isOutgoing\" AS \"message_isOutgoing\", message.\"isCalendarMessage\" AS \"message_isCalendarMessage\", message.\"hasHTML\" AS \"message_hasHTML\", message.\"hasRichText\" AS \"message_hasRichText\", message.\"sentTime\" AS \"message_sentTime\", message.\"receivedTime\" AS \"message_receivedTime\", message.\"displayTo\" AS \"message_displayTo\", message.subject AS message_subject, message.preview AS message_preview, message.body AS message_body \nFROM message \nWHERE message.id > ? ORDER BY message.id\n LIMIT ? OFFSET ?\nSaved 100 messages\nSELECT message.id AS message_id, message.path AS message_path, message.account AS message_account, message.label AS message_label, message.\"isOutgoingMeetingResponse\" AS \"message_isOutgoingMeetingResponse\", message.\"isOutgoing\" AS \"message_isOutgoing\", message.\"isCalendarMessage\" AS \"message_isCalendarMessage\", message.\"hasHTML\" AS \"message_hasHTML\", message.\"hasRichText\" AS \"message_hasRichText\", message.\"sentTime\" AS \"message_sentTime\", message.\"receivedTime\" AS \"message_receivedTime\", message.\"displayTo\" AS \"message_displayTo\", message.subject AS message_subject, message.preview AS message_preview, message.body AS message_body \nFROM message \nWHERE message.id > ? ORDER BY message.id\n LIMIT ? OFFSET ?\nSaved 100 messages\nSELECT message.id AS message_id, message.path AS message_path, message.account AS message_account, message.label AS message_label, message.\"isOutgoingMeetingResponse\" AS \"message_isOutgoingMeetingResponse\", message.\"isOutgoing\" AS \"message_isOutgoing\", message.\"isCalendarMessage\" AS \"message_isCalendarMessage\", message.\"hasHTML\" AS \"message_hasHTML\", message.\"hasRichText\" AS \"message_hasRichText\", message.\"sentTime\" AS \"message_sentTime\", message.\"receivedTime\" AS \"message_receivedTime\", message.\"displayTo\" AS \"message_displayTo\", message.subject AS message_subject, message.preview AS message_preview, message.body AS message_body \nFROM message \nWHERE message.id > ? ORDER BY message.id\n LIMIT ? OFFSET ?\nSaved 100 messages\nSELECT message.id AS message_id, message.path AS message_path, message.account AS message_account, message.label AS message_label, message.\"isOutgoingMeetingResponse\" AS \"message_isOutgoingMeetingResponse\", message.\"isOutgoing\" AS \"message_isOutgoing\", message.\"isCalendarMessage\" AS \"message_isCalendarMessage\", message.\"hasHTML\" AS \"message_hasHTML\", message.\"hasRichText\" AS \"message_hasRichText\", message.\"sentTime\" AS \"message_sentTime\", message.\"receivedTime\" AS \"message_receivedTime\", message.\"displayTo\" AS \"message_displayTo\", message.subject AS message_subject, message.preview AS message_preview, message.body AS message_body \nFROM message \nWHERE message.id > ? ORDER BY message.id\n LIMIT ? OFFSET ?\nSaved 100 messages\nSELECT message.id AS message_id, message.path AS message_path, message.account AS message_account, message.label AS message_label, message.\"isOutgoingMeetingResponse\" AS \"message_isOutgoingMeetingResponse\", message.\"isOutgoing\" AS \"message_isOutgoing\", message.\"isCalendarMessage\" AS \"message_isCalendarMessage\", message.\"hasHTML\" AS \"message_hasHTML\", message.\"hasRichText\" AS \"message_hasRichText\", message.\"sentTime\" AS \"message_sentTime\", message.\"receivedTime\" AS \"message_receivedTime\", message.\"displayTo\" AS \"message_displayTo\", message.subject AS message_subject, message.preview AS message_preview, message.body AS message_body \nFROM message \nWHERE message.id > ? ORDER BY message.id\n LIMIT ? OFFSET ?\nSaved 100 messages\nSELECT message.id AS message_id, message.path AS message_path, message.account AS message_account, message.label AS message_label, message.\"isOutgoingMeetingResponse\" AS \"message_isOutgoingMeetingResponse\", message.\"isOutgoing\" AS \"message_isOutgoing\", message.\"isCalendarMessage\" AS \"message_isCalendarMessage\", message.\"hasHTML\" AS \"message_hasHTML\", message.\"hasRichText\" AS \"message_hasRichText\", message.\"sentTime\" AS \"message_sentTime\", message.\"receivedTime\" AS \"message_receivedTime\", message.\"displayTo\" AS \"message_displayTo\", message.subject AS message_subject, message.preview AS message_preview, message.body AS message_body \nFROM message \nWHERE message.id > ? ORDER BY message.id\n LIMIT ? OFFSET ?\nSaved 100 messages\nSELECT message.id AS message_id, message.path AS message_path, message.account AS message_account, message.label AS message_label, message.\"isOutgoingMeetingResponse\" AS \"message_isOutgoingMeetingResponse\", message.\"isOutgoing\" AS \"message_isOutgoing\", message.\"isCalendarMessage\" AS \"message_isCalendarMessage\", message.\"hasHTML\" AS \"message_hasHTML\", message.\"hasRichText\" AS \"message_hasRichText\", message.\"sentTime\" AS \"message_sentTime\", message.\"receivedTime\" AS \"message_receivedTime\", message.\"displayTo\" AS \"message_displayTo\", message.subject AS message_subject, message.preview AS message_preview, message.body AS message_body \nFROM message \nWHERE message.id > ? ORDER BY message.id\n LIMIT ? OFFSET ?\nSaved 100 messages\nSELECT message.id AS message_id, message.path AS message_path, message.account AS message_account, message.label AS message_label, message.\"isOutgoingMeetingResponse\" AS \"message_isOutgoingMeetingResponse\", message.\"isOutgoing\" AS \"message_isOutgoing\", message.\"isCalendarMessage\" AS \"message_isCalendarMessage\", message.\"hasHTML\" AS \"message_hasHTML\", message.\"hasRichText\" AS \"message_hasRichText\", message.\"sentTime\" AS \"message_sentTime\", message.\"receivedTime\" AS \"message_receivedTime\", message.\"displayTo\" AS \"message_displayTo\", message.subject AS message_subject, message.preview AS message_preview, message.body AS message_body \nFROM message \nWHERE message.id > ? ORDER BY message.id\n LIMIT ? OFFSET ?\nSaved 100 messages\nSELECT message.id AS message_id, message.path AS message_path, message.account AS message_account, message.label AS message_label, message.\"isOutgoingMeetingResponse\" AS \"message_isOutgoingMeetingResponse\", message.\"isOutgoing\" AS \"message_isOutgoing\", message.\"isCalendarMessage\" AS \"message_isCalendarMessage\", message.\"hasHTML\" AS \"message_hasHTML\", message.\"hasRichText\" AS \"message_hasRichText\", message.\"sentTime\" AS \"message_sentTime\", message.\"receivedTime\" AS \"message_receivedTime\", message.\"displayTo\" AS \"message_displayTo\", message.subject AS message_subject, message.preview AS message_preview, message.body AS message_body \nFROM message \nWHERE message.id > ? ORDER BY message.id\n LIMIT ? OFFSET ?\nSaved 100 messages\nSELECT message.id AS message_id, message.path AS message_path, message.account AS message_account, message.label AS message_label, message.\"isOutgoingMeetingResponse\" AS \"message_isOutgoingMeetingResponse\", message.\"isOutgoing\" AS \"message_isOutgoing\", message.\"isCalendarMessage\" AS \"message_isCalendarMessage\", message.\"hasHTML\" AS \"message_hasHTML\", message.\"hasRichText\" AS \"message_hasRichText\", message.\"sentTime\" AS \"message_sentTime\", message.\"receivedTime\" AS \"message_receivedTime\", message.\"displayTo\" AS \"message_displayTo\", message.subject AS message_subject, message.preview AS message_preview, message.body AS message_body \nFROM message \nWHERE message.id > ? ORDER BY message.id\n LIMIT ? OFFSET ?\nSaved 100 messages\nSELECT message.id AS message_id, message.path AS message_path, message.account AS message_account, message.label AS message_label, message.\"isOutgoingMeetingResponse\" AS \"message_isOutgoingMeetingResponse\", message.\"isOutgoing\" AS \"message_isOutgoing\", message.\"isCalendarMessage\" AS \"message_isCalendarMessage\", message.\"hasHTML\" AS \"message_hasHTML\", message.\"hasRichText\" AS \"message_hasRichText\", message.\"sentTime\" AS \"message_sentTime\", message.\"receivedTime\" AS \"message_receivedTime\", message.\"displayTo\" AS \"message_displayTo\", message.subject AS message_subject, message.preview AS message_preview, message.body AS message_body \nFROM message \nWHERE message.id > ? ORDER BY message.id\n LIMIT ? OFFSET ?\nSaved 100 messages\nSELECT message.id AS message_id, message.path AS message_path, message.account AS message_account, message.label AS message_label, message.\"isOutgoingMeetingResponse\" AS \"message_isOutgoingMeetingResponse\", message.\"isOutgoing\" AS \"message_isOutgoing\", message.\"isCalendarMessage\" AS \"message_isCalendarMessage\", message.\"hasHTML\" AS \"message_hasHTML\", message.\"hasRichText\" AS \"message_hasRichText\", message.\"sentTime\" AS \"message_sentTime\", message.\"receivedTime\" AS \"message_receivedTime\", message.\"displayTo\" AS \"message_displayTo\", message.subject AS message_subject, message.preview AS message_preview, message.body AS message_body \nFROM message \nWHERE message.id > ? ORDER BY message.id\n LIMIT ? OFFSET ?\n"
    }
   ],
   "source": [
    "maxid = -1\n",
    "boxes = dict()\n",
    "total = 1\n",
    "accum = 0\n",
    "while total > 0:\n",
    "    total = 0\n",
    "    mails = session.query(Email).filter(Email.id>maxid).order_by(Email.id).limit(100)\n",
    "    for msg in mails:\n",
    "        folder = msg.label.replace(\"/\", \".\")\n",
    "        box = boxes.get(folder, None)\n",
    "        if box is None:\n",
    "            box = mdir.add_folder(folder)\n",
    "            boxes[folder] = box\n",
    "        box.add(msg.message())\n",
    "        maxid = msg.id\n",
    "        total += 1\n",
    "    accum += total\n",
    "    print(\"Saved %d messages\" % accum)\n"
   ]
  },
  {
   "cell_type": "code",
   "execution_count": null,
   "metadata": {},
   "outputs": [],
   "source": []
  }
 ]
}