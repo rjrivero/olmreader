{
 "nbformat": 4,
 "nbformat_minor": 2,
 "metadata": {
  "language_info": {
   "name": "python",
   "codemirror_mode": {
    "name": "ipython",
    "version": 3
   },
   "version": "3.8.1-final"
  },
  "orig_nbformat": 2,
  "file_extension": ".py",
  "mimetype": "text/x-python",
  "name": "python",
  "npconvert_exporter": "python",
  "pygments_lexer": "ipython3",
  "version": 3,
  "kernelspec": {
   "name": "python38164bitolmpipenva3ad774691db46418b365996062b1729",
   "display_name": "Python 3.8.1 64-bit ('olm': pipenv)"
  }
 },
 "cells": [
  {
   "cell_type": "code",
   "execution_count": 1,
   "metadata": {},
   "outputs": [],
   "source": [
    "dbpath = '/home/rafa/Documentos/outlook'\n",
    "dbfile = f'{dbpath}/emails3.db'"
   ]
  },
  {
   "cell_type": "code",
   "execution_count": 2,
   "metadata": {},
   "outputs": [],
   "source": [
    "from zipfile import ZipFile\n",
    "import logging\n",
    "import sys\n",
    "import argparse\n",
    "from sqlalchemy import create_engine\n",
    "import sqlalchemy.orm as orm"
   ]
  },
  {
   "cell_type": "code",
   "execution_count": 3,
   "metadata": {},
   "outputs": [],
   "source": [
    "import attr\n",
    "from lib import Email, Base"
   ]
  },
  {
   "cell_type": "code",
   "execution_count": 4,
   "metadata": {},
   "outputs": [],
   "source": [
    "engine = create_engine(f'sqlite:///{dbfile}', echo=False)\n",
    "Base.metadata.create_all(engine)"
   ]
  },
  {
   "cell_type": "code",
   "execution_count": 5,
   "metadata": {},
   "outputs": [],
   "source": [
    "from sqlalchemy.orm import sessionmaker\n",
    "Session = sessionmaker(bind=engine)"
   ]
  },
  {
   "cell_type": "code",
   "execution_count": 6,
   "metadata": {},
   "outputs": [
    {
     "output_type": "execute_result",
     "data": {
      "text/plain": "32639"
     },
     "metadata": {},
     "execution_count": 6
    }
   ],
   "source": [
    "session = Session()\n",
    "emails = session.query(Email).count()\n",
    "emails"
   ]
  },
  {
   "cell_type": "code",
   "execution_count": 7,
   "metadata": {},
   "outputs": [
    {
     "output_type": "execute_result",
     "data": {
      "text/plain": "<sqlalchemy.orm.query.Query at 0x7f4d60148220>"
     },
     "metadata": {},
     "execution_count": 7
    }
   ],
   "source": [
    "first = session.query(Email).filter(Email.id == 1)\n",
    "first"
   ]
  },
  {
   "cell_type": "code",
   "execution_count": 8,
   "metadata": {},
   "outputs": [],
   "source": [
    "item = first.one()"
   ]
  },
  {
   "cell_type": "code",
   "execution_count": 9,
   "metadata": {},
   "outputs": [],
   "source": [
    "# Esto es necesario para que los mensajes se guarden\n",
    "# en UTF-8, y no en base64.\n",
    "from email import charset\n",
    "charset.add_charset('utf-8', charset.SHORTEST)"
   ]
  },
  {
   "cell_type": "code",
   "execution_count": 10,
   "metadata": {},
   "outputs": [],
   "source": [
    "import mailbox\n",
    "mdir = mailbox.Maildir(f'{dbpath}/mail', None, True)\n",
    "\n",
    "#for item in session.query(Email.label).distinct():\n",
    "#    mdir.add_folder(item.label.replace('/','.'))\n",
    ""
   ]
  },
  {
   "cell_type": "code",
   "execution_count": 11,
   "metadata": {},
   "outputs": [
    {
     "output_type": "stream",
     "name": "stdout",
     "text": "Saved 100 messages\nSaved 200 messages\nSaved 300 messages\nSaved 400 messages\nSaved 500 messages\nSaved 600 messages\nSaved 700 messages\nSaved 800 messages\nSaved 900 messages\nSaved 1000 messages\nSaved 1100 messages\nSaved 1200 messages\nSaved 1300 messages\nSaved 1400 messages\nSaved 1500 messages\nSaved 1600 messages\nSaved 1700 messages\nSaved 1800 messages\nSaved 1900 messages\nSaved 2000 messages\nSaved 2100 messages\nSaved 2200 messages\nSaved 2300 messages\nSaved 2400 messages\nSaved 2500 messages\nSaved 2600 messages\nSaved 2700 messages\nSaved 2800 messages\nSaved 2900 messages\nSaved 3000 messages\nSaved 3100 messages\nSaved 3200 messages\nSaved 3300 messages\nSaved 3400 messages\nSaved 3500 messages\nSaved 3600 messages\nSaved 3700 messages\nSaved 3800 messages\nSaved 3900 messages\nSaved 4000 messages\nSaved 4100 messages\nSaved 4200 messages\nSaved 4300 messages\nSaved 4400 messages\nSaved 4500 messages\nSaved 4600 messages\nSaved 4700 messages\nSaved 4800 messages\nSaved 4900 messages\nSaved 5000 messages\nSaved 5100 messages\nSaved 5200 messages\nSaved 5300 messages\nSaved 5400 messages\nSaved 5500 messages\nSaved 5600 messages\nSaved 5700 messages\nSaved 5800 messages\nSaved 5900 messages\nSaved 6000 messages\nSaved 6100 messages\nSaved 6200 messages\nSaved 6300 messages\nSaved 6400 messages\nSaved 6500 messages\nSaved 6600 messages\nSaved 6700 messages\nSaved 6800 messages\nSaved 6900 messages\nSaved 7000 messages\nSaved 7100 messages\nSaved 7200 messages\nSaved 7300 messages\nSaved 7400 messages\nSaved 7500 messages\nSaved 7600 messages\nSaved 7700 messages\nSaved 7800 messages\nSaved 7900 messages\nSaved 8000 messages\nSaved 8100 messages\nSaved 8200 messages\nSaved 8300 messages\nSaved 8400 messages\nSaved 8500 messages\nSaved 8600 messages\nSaved 8700 messages\nSaved 8800 messages\nSaved 8900 messages\nSaved 9000 messages\nSaved 9100 messages\nSaved 9200 messages\nSaved 9300 messages\nSaved 9400 messages\nSaved 9500 messages\nSaved 9600 messages\nSaved 9700 messages\nSaved 9800 messages\nSaved 9900 messages\nSaved 10000 messages\nSaved 10100 messages\nSaved 10200 messages\nSaved 10300 messages\nSaved 10400 messages\nSaved 10500 messages\nSaved 10600 messages\nSaved 10700 messages\nSaved 10800 messages\nSaved 10900 messages\nSaved 11000 messages\nSaved 11100 messages\nSaved 11200 messages\nSaved 11300 messages\nSaved 11400 messages\nSaved 11500 messages\nSaved 11600 messages\nSaved 11700 messages\nSaved 11800 messages\nSaved 11900 messages\nSaved 12000 messages\nSaved 12100 messages\nSaved 12200 messages\nSaved 12300 messages\nSaved 12400 messages\nSaved 12500 messages\nSaved 12600 messages\nSaved 12700 messages\nSaved 12800 messages\nSaved 12900 messages\nSaved 13000 messages\nSaved 13100 messages\nSaved 13200 messages\nSaved 13300 messages\nSaved 13400 messages\nSaved 13500 messages\nSaved 13600 messages\nSaved 13700 messages\nSaved 13800 messages\nSaved 13900 messages\nSaved 14000 messages\nSaved 14100 messages\nSaved 14200 messages\nSaved 14300 messages\nSaved 14400 messages\nSaved 14500 messages\nSaved 14600 messages\nSaved 14700 messages\nSaved 14800 messages\nSaved 14900 messages\nSaved 15000 messages\nSaved 15100 messages\nSaved 15200 messages\nSaved 15300 messages\nSaved 15400 messages\nSaved 15500 messages\nSaved 15600 messages\nSaved 15700 messages\nSaved 15800 messages\nSaved 15900 messages\nSaved 16000 messages\nSaved 16100 messages\nSaved 16200 messages\nSaved 16300 messages\nSaved 16400 messages\nSaved 16500 messages\nSaved 16600 messages\nSaved 16700 messages\nSaved 16800 messages\nSaved 16900 messages\nSaved 17000 messages\nSaved 17100 messages\nSaved 17200 messages\nSaved 17300 messages\nSaved 17400 messages\nSaved 17500 messages\nSaved 17600 messages\nSaved 17700 messages\nSaved 17800 messages\nSaved 17900 messages\nSaved 18000 messages\nSaved 18100 messages\nSaved 18200 messages\nSaved 18300 messages\nSaved 18400 messages\nSaved 18500 messages\nSaved 18600 messages\nSaved 18700 messages\nSaved 18800 messages\nSaved 18900 messages\nSaved 19000 messages\nSaved 19100 messages\nSaved 19200 messages\nSaved 19300 messages\nSaved 19400 messages\nSaved 19500 messages\nSaved 19600 messages\nSaved 19700 messages\nSaved 19800 messages\nSaved 19900 messages\nSaved 20000 messages\nSaved 20100 messages\nSaved 20200 messages\nSaved 20300 messages\nSaved 20400 messages\nSaved 20500 messages\nSaved 20600 messages\nSaved 20700 messages\nSaved 20800 messages\nSaved 20900 messages\nSaved 21000 messages\nSaved 21100 messages\nSaved 21200 messages\nSaved 21300 messages\nSaved 21400 messages\nSaved 21500 messages\nSaved 21600 messages\nSaved 21700 messages\nSaved 21800 messages\nSaved 21900 messages\nSaved 22000 messages\nSaved 22100 messages\nSaved 22200 messages\nSaved 22300 messages\nSaved 22400 messages\nSaved 22500 messages\nSaved 22600 messages\nSaved 22700 messages\nSaved 22800 messages\nSaved 22900 messages\nSaved 23000 messages\nSaved 23100 messages\nSaved 23200 messages\nSaved 23300 messages\nSaved 23400 messages\nSaved 23500 messages\nSaved 23600 messages\nSaved 23700 messages\nSaved 23800 messages\nSaved 23900 messages\nSaved 24000 messages\nSaved 24100 messages\nSaved 24200 messages\nSaved 24300 messages\nSaved 24400 messages\nSaved 24500 messages\nSaved 24600 messages\nSaved 24700 messages\nSaved 24800 messages\nSaved 24900 messages\nSaved 25000 messages\nSaved 25100 messages\nSaved 25200 messages\nSaved 25300 messages\nSaved 25400 messages\nSaved 25500 messages\nSaved 25600 messages\nSaved 25700 messages\nSaved 25800 messages\nSaved 25900 messages\nSaved 26000 messages\nSaved 26100 messages\nSaved 26200 messages\nSaved 26300 messages\nSaved 26400 messages\nSaved 26500 messages\nSaved 26600 messages\nSaved 26700 messages\nSaved 26800 messages\nSaved 26900 messages\nSaved 27000 messages\nSaved 27100 messages\nSaved 27200 messages\nSaved 27300 messages\nSaved 27400 messages\nSaved 27500 messages\nSaved 27600 messages\nSaved 27700 messages\nSaved 27800 messages\nSaved 27900 messages\nSaved 28000 messages\nSaved 28100 messages\nSaved 28200 messages\nSaved 28300 messages\nSaved 28400 messages\nSaved 28500 messages\nSaved 28600 messages\nSaved 28700 messages\nSaved 28800 messages\nSaved 28900 messages\nSaved 29000 messages\nSaved 29100 messages\nSaved 29200 messages\nSaved 29300 messages\nSaved 29400 messages\nSaved 29500 messages\nSaved 29600 messages\nSaved 29700 messages\nSaved 29800 messages\nSaved 29900 messages\nSaved 30000 messages\nSaved 30100 messages\nSaved 30200 messages\nSaved 30300 messages\nSaved 30400 messages\nSaved 30500 messages\nSaved 30600 messages\nSaved 30700 messages\nSaved 30800 messages\nSaved 30900 messages\nSaved 31000 messages\nSaved 31100 messages\nSaved 31200 messages\nSaved 31300 messages\nSaved 31400 messages\nSaved 31500 messages\nSaved 31600 messages\nSaved 31700 messages\nSaved 31800 messages\nSaved 31900 messages\nSaved 32000 messages\nSaved 32100 messages\nSaved 32200 messages\nSaved 32300 messages\nSaved 32400 messages\nSaved 32500 messages\nSaved 32600 messages\nSaved 32639 messages\nSaved 32639 messages\n"
    }
   ],
   "source": [
    "maxid = -1\n",
    "boxes = dict()\n",
    "total = 1\n",
    "accum = 0\n",
    "msg = None\n",
    "try:\n",
    "    while total > 0:\n",
    "        total = 0\n",
    "        mails = session.query(Email).filter(Email.id>maxid).order_by(Email.id).limit(100)\n",
    "        for msg in mails:\n",
    "            folder = msg.label.replace(\"/\", \".\")\n",
    "            box = boxes.get(folder, None)\n",
    "            if box is None:\n",
    "                box = mdir.add_folder(folder)\n",
    "                boxes[folder] = box\n",
    "            # This fails in Python 3.6 because of\n",
    "            # https://bugs.python.org/issue35985,\n",
    "            # https://bugs.python.org/issue33524\n",
    "            box.add(msg.message())\n",
    "            maxid = msg.id\n",
    "            total += 1\n",
    "        accum += total\n",
    "        print(\"Saved %d messages\" % accum)\n",
    "except:\n",
    "    raise"
   ]
  },
  {
   "cell_type": "code",
   "execution_count": null,
   "metadata": {},
   "outputs": [],
   "source": []
  }
 ]
}